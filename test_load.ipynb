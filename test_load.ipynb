{
 "cells": [
  {
   "cell_type": "code",
   "execution_count": 3,
   "metadata": {},
   "outputs": [],
   "source": [
    "import pandas as pd"
   ]
  },
  {
   "cell_type": "code",
   "execution_count": 27,
   "metadata": {},
   "outputs": [
    {
     "name": "stdout",
     "output_type": "stream",
     "text": [
      "(95120, 20)\n",
      "68920\n",
      "2575677.91\n",
      "VendorID                  True\n",
      "lpep_pickup_datetime      True\n",
      "lpep_dropoff_datetime     True\n",
      "store_and_fwd_flag        True\n",
      "RatecodeID                True\n",
      "PULocationID              True\n",
      "DOLocationID              True\n",
      "passenger_count          False\n",
      "trip_distance            False\n",
      "fare_amount              False\n",
      "extra                    False\n",
      "mta_tax                  False\n",
      "tip_amount               False\n",
      "tolls_amount             False\n",
      "ehail_fee                 True\n",
      "improvement_surcharge    False\n",
      "total_amount             False\n",
      "payment_type              True\n",
      "trip_type                 True\n",
      "congestion_surcharge     False\n",
      "dtype: bool\n",
      "(88605, 20)\n",
      "62505\n",
      "3556166.15\n",
      "VendorID                  True\n",
      "lpep_pickup_datetime      True\n",
      "lpep_dropoff_datetime     True\n",
      "store_and_fwd_flag        True\n",
      "RatecodeID                True\n",
      "PULocationID              True\n",
      "DOLocationID              True\n",
      "passenger_count          False\n",
      "trip_distance            False\n",
      "fare_amount              False\n",
      "extra                    False\n",
      "mta_tax                  False\n",
      "tip_amount               False\n",
      "tolls_amount             False\n",
      "ehail_fee                 True\n",
      "improvement_surcharge    False\n",
      "total_amount             False\n",
      "payment_type              True\n",
      "trip_type                 True\n",
      "congestion_surcharge     False\n",
      "dtype: bool\n",
      "(83130, 20)\n",
      "58752\n",
      "2121961.0\n",
      "VendorID                  True\n",
      "lpep_pickup_datetime      True\n",
      "lpep_dropoff_datetime     True\n",
      "store_and_fwd_flag        True\n",
      "RatecodeID                True\n",
      "PULocationID              True\n",
      "DOLocationID              True\n",
      "passenger_count          False\n",
      "trip_distance            False\n",
      "fare_amount              False\n",
      "extra                    False\n",
      "mta_tax                  False\n",
      "tip_amount               False\n",
      "tolls_amount             False\n",
      "ehail_fee                 True\n",
      "improvement_surcharge    False\n",
      "total_amount             False\n",
      "payment_type              True\n",
      "trip_type                 True\n",
      "congestion_surcharge     False\n",
      "dtype: bool\n"
     ]
    }
   ],
   "source": [
    "months = [10, 11, 12]\n",
    "three_months_df = pd.DataFrame()\n",
    "for month in months:\n",
    "    #month = 12\n",
    "    url= 'https://github.com/DataTalksClub/nyc-tlc-data/releases/download/green/green_tripdata_2020-{}.csv.gz'.format(month)\n",
    "\n",
    "    taxi_dtypes = {\n",
    "            'VendorID': pd.Int64Dtype(),\n",
    "            'passenger_count': pd.Int64Dtype(),\n",
    "            'trip_distance': float,\n",
    "            'RatecodeID': pd.Int64Dtype(),\n",
    "            'store_and_fwd_flag': str,\n",
    "            'PULocationID': pd.Int64Dtype(),\n",
    "            'DOLocationID': pd.Int64Dtype(),\n",
    "            'payment_type': pd.Int64Dtype(),\n",
    "            'fare_amount': float,\n",
    "            'extra': float,\n",
    "            'mta_tax': float,\n",
    "            'tip_amount': float,\n",
    "            'tolls_amount': float,\n",
    "            'improvement_surcharge': float,\n",
    "            'total_amount': float,\n",
    "            'congestion_surcharge': float,\n",
    "            'enhail_fee': float,\n",
    "            'trip_type': pd.Int64Dtype()\n",
    "\n",
    "        }\n",
    "    parse_dates = ['lpep_pickup_datetime', 'lpep_dropoff_datetime']\n",
    "        \n",
    "    df_aux = pd.read_csv(url, sep=\",\", compression=\"gzip\", dtype=taxi_dtypes, parse_dates=parse_dates)\n",
    "    print(df_aux.shape)\n",
    "    print(df_aux['passenger_count'].sum())\n",
    "    print(df_aux['trip_distance'].sum())\n",
    "    print(df_aux.all())\n",
    "    \n"
   ]
  },
  {
   "cell_type": "code",
   "execution_count": 23,
   "metadata": {},
   "outputs": [
    {
     "data": {
      "text/plain": [
       "266855"
      ]
     },
     "execution_count": 23,
     "metadata": {},
     "output_type": "execute_result"
    }
   ],
   "source": [
    "sum = 95120 + 88605 + 83130\n",
    "sum"
   ]
  },
  {
   "cell_type": "code",
   "execution_count": null,
   "metadata": {},
   "outputs": [],
   "source": []
  },
  {
   "cell_type": "code",
   "execution_count": 12,
   "metadata": {},
   "outputs": [
    {
     "data": {
      "text/plain": [
       "['VendorID',\n",
       " 'lpep_pickup_datetime',\n",
       " 'lpep_dropoff_datetime',\n",
       " 'store_and_fwd_flag',\n",
       " 'RatecodeID',\n",
       " 'PULocationID',\n",
       " 'DOLocationID',\n",
       " 'passenger_count',\n",
       " 'trip_distance',\n",
       " 'fare_amount',\n",
       " 'extra',\n",
       " 'mta_tax',\n",
       " 'tip_amount',\n",
       " 'tolls_amount',\n",
       " 'ehail_fee',\n",
       " 'improvement_surcharge',\n",
       " 'total_amount',\n",
       " 'payment_type',\n",
       " 'trip_type',\n",
       " 'congestion_surcharge',\n",
       " 'lpep_pickup_date']"
      ]
     },
     "execution_count": 12,
     "metadata": {},
     "output_type": "execute_result"
    }
   ],
   "source": [
    "columns = ['VendorID', 'lpep_pickup_datetime', 'lpep_dropoff_datetime',\n",
    "\n",
    "       'store_and_fwd_flag', 'RatecodeID', 'PULocationID', 'DOLocationID',\n",
    "\n",
    "       'passenger_count', 'trip_distance', 'fare_amount', 'extra', 'mta_tax',\n",
    "\n",
    "       'tip_amount', 'tolls_amount', 'ehail_fee', 'improvement_surcharge',\n",
    "\n",
    "       'total_amount', 'payment_type', 'trip_type', 'congestion_surcharge',\n",
    "\n",
    "       'lpep_pickup_date']\n",
    "columns"
   ]
  },
  {
   "cell_type": "code",
   "execution_count": 13,
   "metadata": {},
   "outputs": [],
   "source": [
    "import re\n",
    " \n",
    "def change_case(str):\n",
    "    s1 = re.sub('(.)([A-Z][a-z]+)', r'\\1_\\2', str)\n",
    "    return re.sub('([a-z0-9])([A-Z])', r'\\1_\\2', s1).lower()"
   ]
  },
  {
   "cell_type": "code",
   "execution_count": 20,
   "metadata": {},
   "outputs": [
    {
     "name": "stdout",
     "output_type": "stream",
     "text": [
      "['vendor_id']\n",
      "['vendor_id', 'lpep_pickup_datetime']\n",
      "['vendor_id', 'lpep_pickup_datetime', 'lpep_dropoff_datetime']\n",
      "['vendor_id', 'lpep_pickup_datetime', 'lpep_dropoff_datetime', 'store_and_fwd_flag']\n",
      "['vendor_id', 'lpep_pickup_datetime', 'lpep_dropoff_datetime', 'store_and_fwd_flag', 'ratecode_id']\n",
      "['vendor_id', 'lpep_pickup_datetime', 'lpep_dropoff_datetime', 'store_and_fwd_flag', 'ratecode_id', 'pu_location_id']\n",
      "['vendor_id', 'lpep_pickup_datetime', 'lpep_dropoff_datetime', 'store_and_fwd_flag', 'ratecode_id', 'pu_location_id', 'do_location_id']\n",
      "['vendor_id', 'lpep_pickup_datetime', 'lpep_dropoff_datetime', 'store_and_fwd_flag', 'ratecode_id', 'pu_location_id', 'do_location_id', 'passenger_count']\n",
      "['vendor_id', 'lpep_pickup_datetime', 'lpep_dropoff_datetime', 'store_and_fwd_flag', 'ratecode_id', 'pu_location_id', 'do_location_id', 'passenger_count', 'trip_distance']\n",
      "['vendor_id', 'lpep_pickup_datetime', 'lpep_dropoff_datetime', 'store_and_fwd_flag', 'ratecode_id', 'pu_location_id', 'do_location_id', 'passenger_count', 'trip_distance', 'fare_amount']\n",
      "['vendor_id', 'lpep_pickup_datetime', 'lpep_dropoff_datetime', 'store_and_fwd_flag', 'ratecode_id', 'pu_location_id', 'do_location_id', 'passenger_count', 'trip_distance', 'fare_amount', 'extra']\n",
      "['vendor_id', 'lpep_pickup_datetime', 'lpep_dropoff_datetime', 'store_and_fwd_flag', 'ratecode_id', 'pu_location_id', 'do_location_id', 'passenger_count', 'trip_distance', 'fare_amount', 'extra', 'mta_tax']\n",
      "['vendor_id', 'lpep_pickup_datetime', 'lpep_dropoff_datetime', 'store_and_fwd_flag', 'ratecode_id', 'pu_location_id', 'do_location_id', 'passenger_count', 'trip_distance', 'fare_amount', 'extra', 'mta_tax', 'tip_amount']\n",
      "['vendor_id', 'lpep_pickup_datetime', 'lpep_dropoff_datetime', 'store_and_fwd_flag', 'ratecode_id', 'pu_location_id', 'do_location_id', 'passenger_count', 'trip_distance', 'fare_amount', 'extra', 'mta_tax', 'tip_amount', 'tolls_amount']\n",
      "['vendor_id', 'lpep_pickup_datetime', 'lpep_dropoff_datetime', 'store_and_fwd_flag', 'ratecode_id', 'pu_location_id', 'do_location_id', 'passenger_count', 'trip_distance', 'fare_amount', 'extra', 'mta_tax', 'tip_amount', 'tolls_amount', 'ehail_fee']\n",
      "['vendor_id', 'lpep_pickup_datetime', 'lpep_dropoff_datetime', 'store_and_fwd_flag', 'ratecode_id', 'pu_location_id', 'do_location_id', 'passenger_count', 'trip_distance', 'fare_amount', 'extra', 'mta_tax', 'tip_amount', 'tolls_amount', 'ehail_fee', 'improvement_surcharge']\n",
      "['vendor_id', 'lpep_pickup_datetime', 'lpep_dropoff_datetime', 'store_and_fwd_flag', 'ratecode_id', 'pu_location_id', 'do_location_id', 'passenger_count', 'trip_distance', 'fare_amount', 'extra', 'mta_tax', 'tip_amount', 'tolls_amount', 'ehail_fee', 'improvement_surcharge', 'total_amount']\n",
      "['vendor_id', 'lpep_pickup_datetime', 'lpep_dropoff_datetime', 'store_and_fwd_flag', 'ratecode_id', 'pu_location_id', 'do_location_id', 'passenger_count', 'trip_distance', 'fare_amount', 'extra', 'mta_tax', 'tip_amount', 'tolls_amount', 'ehail_fee', 'improvement_surcharge', 'total_amount', 'payment_type']\n",
      "['vendor_id', 'lpep_pickup_datetime', 'lpep_dropoff_datetime', 'store_and_fwd_flag', 'ratecode_id', 'pu_location_id', 'do_location_id', 'passenger_count', 'trip_distance', 'fare_amount', 'extra', 'mta_tax', 'tip_amount', 'tolls_amount', 'ehail_fee', 'improvement_surcharge', 'total_amount', 'payment_type', 'trip_type']\n",
      "['vendor_id', 'lpep_pickup_datetime', 'lpep_dropoff_datetime', 'store_and_fwd_flag', 'ratecode_id', 'pu_location_id', 'do_location_id', 'passenger_count', 'trip_distance', 'fare_amount', 'extra', 'mta_tax', 'tip_amount', 'tolls_amount', 'ehail_fee', 'improvement_surcharge', 'total_amount', 'payment_type', 'trip_type', 'congestion_surcharge']\n",
      "['vendor_id', 'lpep_pickup_datetime', 'lpep_dropoff_datetime', 'store_and_fwd_flag', 'ratecode_id', 'pu_location_id', 'do_location_id', 'passenger_count', 'trip_distance', 'fare_amount', 'extra', 'mta_tax', 'tip_amount', 'tolls_amount', 'ehail_fee', 'improvement_surcharge', 'total_amount', 'payment_type', 'trip_type', 'congestion_surcharge', 'lpep_pickup_date']\n"
     ]
    }
   ],
   "source": [
    "columns_list = []\n",
    "for column in columns:\n",
    "    column = change_case(column)\n",
    "    columns_list.append(column)\n",
    "    print(columns_list)\n",
    "    "
   ]
  },
  {
   "cell_type": "code",
   "execution_count": null,
   "metadata": {},
   "outputs": [],
   "source": []
  }
 ],
 "metadata": {
  "kernelspec": {
   "display_name": "nlp",
   "language": "python",
   "name": "python3"
  },
  "language_info": {
   "codemirror_mode": {
    "name": "ipython",
    "version": 3
   },
   "file_extension": ".py",
   "mimetype": "text/x-python",
   "name": "python",
   "nbconvert_exporter": "python",
   "pygments_lexer": "ipython3",
   "version": "3.7.6"
  }
 },
 "nbformat": 4,
 "nbformat_minor": 2
}
